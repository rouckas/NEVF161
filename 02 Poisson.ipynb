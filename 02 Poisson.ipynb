{
 "cells": [
  {
   "cell_type": "markdown",
   "metadata": {},
   "source": [
    "# Částicové modely plazmatu\n",
    "## výpočet síly"
   ]
  },
  {
   "cell_type": "markdown",
   "metadata": {},
   "source": [
    "Přednáška rozebírá metody výpočtu síly v částicových modely plazmatu. Částečně navazuje na: metody řešení Poissonovy rovnice probírané v přednášce NEVF138 (Z. poč. fyz. II) a na základy Particle-in-cell probírané v přednášce NEVF137 (Model. ve fyz. pl.) ale nejsou to prerekvizity."
   ]
  },
  {
   "cell_type": "markdown",
   "metadata": {},
   "source": [
    "## komentáře ke slidům Particle-force"
   ]
  },
  {
   "cell_type": "markdown",
   "metadata": {},
   "source": [
    "### str. 3\n",
    "Částicový model tedy převádí problém řešení 6D integrodiferenciální Boltzmannovy rovnice na výpočet trajektorií Np částic v 6D fázovém prostoru."
   ]
  },
  {
   "cell_type": "markdown",
   "metadata": {},
   "source": [
    "### str. 4\n",
    "zajímají nás jen konzervativní síly, které lze reprezentovat potenciálem.\n",
    "\n",
    "Pozn: vícečásticové interakce jsou například polarizační: Indukovaný dipól částice zavisí na působení více častic v okolí...\n",
    "\n",
    "Dále už nás bude zajímat jenom elektrostatické silové působení, kde výpočet síly je ekvivalentní řešení Poissonovy rovnice. Mimochodem, to platí i pro gravitaci, "
   ]
  },
  {
   "cell_type": "markdown",
   "metadata": {},
   "source": [
    "### str. 5\n",
    "PP metody se v modelování plazmatu prakticky nepoužívají vzhledem ke kolektivnímu chování. Lze použít třeba pro simulaci pevné látky"
   ]
  },
  {
   "cell_type": "markdown",
   "metadata": {},
   "source": [
    "### str. 7\n",
    "Příklad: jak lze separovat krátkodosahovou a dalekodosahovou složku coulombické interakce bodových částic?\n",
    "\n",
    "Dalekodosahovou složku můžeme definovat jako silové působení mezi sférami o poloměru $a/2$ s rovnoměrným rozložením náboje. Ta je pro $r > a$ shodná s interakcí bodových nábojů. Když nahradíme bodový náboj sférou o poloměru $r$, tak dalekodosahovou"
   ]
  },
  {
   "cell_type": "code",
   "execution_count": 49,
   "metadata": {},
   "outputs": [],
   "source": [
    "import matplotlib.pyplot as plt\n",
    "import numpy as np"
   ]
  },
  {
   "cell_type": "code",
   "execution_count": 50,
   "metadata": {},
   "outputs": [],
   "source": [
    "C = 1 # q^2/(4 pi eps0)\n",
    "a = 1 # radius\n",
    "x = np.linspace(1e-6, 5, 200)"
   ]
  },
  {
   "cell_type": "code",
   "execution_count": 51,
   "metadata": {},
   "outputs": [
    {
     "data": {
      "text/plain": [
       "(0, 4)"
      ]
     },
     "execution_count": 51,
     "metadata": {},
     "output_type": "execute_result"
    },
    {
     "data": {
      "image/png": "[encoded data removed]",
      "text/plain": [
       "<Figure size 432x288 with 1 Axes>"
      ]
     },
     "metadata": {
      "needs_background": "light"
     },
     "output_type": "display_data"
    }
   ],
   "source": [
    "Coulomb = C/x**2\n",
    "Trunc = Coulomb.copy()\n",
    "Trunc[x<a] = C/a**2*(8*x/a - 9*x**2/a**2 + 2*x**4/a**4)[x<a]\n",
    "# Hockney Eastwood  kap. 12\n",
    "\n",
    "plt.plot(x, Coulomb, lw=3, label=\"Coulombic\")\n",
    "plt.fill_between(x, Trunc, Coulomb, facecolor=\"#BBF8F8\", edgecolor=\"k\", label=\"short range\")\n",
    "plt.fill_between(x, 0*x, Trunc, facecolor=\"#F8F8BB\", edgecolor=\"k\", label=\"long range\")\n",
    "plt.axvline(1, ls=\"--\")\n",
    "#plt.text(1, 3, )\n",
    "plt.legend()\n",
    "plt.ylim(0, 6)\n",
    "plt.xlim(0, 4)"
   ]
  },
  {
   "cell_type": "markdown",
   "metadata": {},
   "source": [
    "### str. 8\n",
    "Stromové algoritmy jsou blízké PP, ale optimalizují výpočet působení vzdálenějších částic\n",
    "\n",
    "Barnes-Hut: relativně jednoduchý, vysvětlení dále viz slidy"
   ]
  },
  {
   "cell_type": "markdown",
   "metadata": {},
   "source": [
    "### str. 13\n",
    "\n",
    "## Makročástice\n",
    "Důležitá poznámka, která se týká prakticky všech částicových simulací plazmatu (nebo jiných tekutin). Obvykle nedokážeme zahrnout do simulace všechny fyzikální částice - atomy a molekuly. Například počty nabitých částic ve výbojích jsou typicky $\\gg 10^{10}$, ale k simulaci často stačí počty v řádech $10^6$ (pro jednoduchou geometrii).\n",
    "\n",
    "Používáme tedy tzv. makročástice, kde jedna simulovaná částice reprezentuje $n$ reálných částic. Makročástice má náboj $nq$ (ovlivňuje výpočet síly) a stejné $q/m$ jako reálné částice (takže platí stejné pohybové rovnice). Je nefyzikální, aby makročástice interagovaly na krátkou vzdálenost stejně jako bodové náboje (jde spíše o spojité rozložení nábojové hustoty). Proto se silové působení v částicových modelech často vyhlazuje (Použitím změkčené interakce v PP nebo stromových algoritmech a nebo vyhlazováním v PM algoritmech).\n"
   ]
  },
  {
   "cell_type": "markdown",
   "metadata": {},
   "source": [
    "### str. 17\n",
    "Indexy: $i$: čas, $n$: číslo mřížového bodu, $k$ index částice"
   ]
  },
  {
   "cell_type": "markdown",
   "metadata": {},
   "source": [
    "### str. 18\n",
    "\n",
    "V particle in cell se typicky používá tvar částice CIC. Náboj částice se lineárně rozpočítá mezi 2 (v 1D) nejbližší mřížové body a síla se potom počítá lineární interpolací z nebližších bodů.\n",
    "\n",
    "Vysvětlení, proč TSC schéma nemá trojúhelníkovou váhovou funkci: Pokud si představíme, nábojovou hustotu v mřížovém bodě $x_i$ určíme integrací přes $(x_i-h/2, x_i+h/2)$, tak váhová funkce je konvoluce nábojového rozdělení částice a obdélníkové funkce, takže TSC váhová funkce odpovídá \"trojúhelníkové\" částici a CIC částice jsou \"obdélníkové\"."
   ]
  },
  {
   "cell_type": "markdown",
   "metadata": {},
   "source": [
    "### str 21\n",
    "GS a Jacobi mají stejnou výpočetní náročnost. GS má menší paměťové nároky (pole lze průběžně přepisovat) a je o konstantní faktor rychlejší."
   ]
  },
  {
   "cell_type": "markdown",
   "metadata": {},
   "source": [
    "### str. 35\n",
    "Multigridy jsou prezentovány jen velmi zhruba. V případě zájmu dodám lepší materiály"
   ]
  }
 ],
 "metadata": {
  "kernelspec": {
   "display_name": "Python 3",
   "language": "python",
   "name": "python3"
  },
  "language_info": {
   "codemirror_mode": {
    "name": "ipython",
    "version": 3
   },
   "file_extension": ".py",
   "mimetype": "text/x-python",
   "name": "python",
   "nbconvert_exporter": "python",
   "pygments_lexer": "ipython3",
   "version": "3.7.5"
  }
 },
 "nbformat": 4,
 "nbformat_minor": 2
}
